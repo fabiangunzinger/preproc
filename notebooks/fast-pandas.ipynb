{
 "cells": [
  {
   "cell_type": "code",
   "execution_count": 3,
   "id": "reserved-checklist",
   "metadata": {},
   "outputs": [],
   "source": [
    "import datetime\n",
    "import os\n",
    "import sys\n",
    "\n",
    "import numpy as np\n",
    "import pandas as pd\n",
    "import s3fs\n",
    "\n",
    "sys.path.append('/Users/fgu/dev/projects/preproc')\n",
    "import preproc.aws as aws\n",
    "\n",
    "# pandas options\n",
    "pd.set_option('display.max_rows', 120)\n",
    "pd.set_option('display.max_columns', 120)\n",
    "pd.set_option('max_colwidth', None)\n",
    "\n",
    "# ipython magic\n",
    "%config InlineBackend.figure_format = 'retina'\n",
    "%load_ext autoreload\n",
    "%autoreload 2"
   ]
  },
  {
   "cell_type": "markdown",
   "id": "5edf0611-ca03-4cce-ab53-c36d3d8c4dd5",
   "metadata": {},
   "source": [
    "## Reading dates\n",
    "\n",
    "Using `infer_datetime_format=True` seems about as fast as passing a parser while being more concise, so I make this my default."
   ]
  },
  {
   "cell_type": "code",
   "execution_count": 4,
   "id": "technological-interview",
   "metadata": {},
   "outputs": [
    {
     "data": {
      "text/html": [
       "<div>\n",
       "<style scoped>\n",
       "    .dataframe tbody tr th:only-of-type {\n",
       "        vertical-align: middle;\n",
       "    }\n",
       "\n",
       "    .dataframe tbody tr th {\n",
       "        vertical-align: top;\n",
       "    }\n",
       "\n",
       "    .dataframe thead th {\n",
       "        text-align: right;\n",
       "    }\n",
       "</style>\n",
       "<table border=\"1\" class=\"dataframe\">\n",
       "  <thead>\n",
       "    <tr style=\"text-align: right;\">\n",
       "      <th></th>\n",
       "      <th>0</th>\n",
       "      <th>1</th>\n",
       "    </tr>\n",
       "  </thead>\n",
       "  <tbody>\n",
       "    <tr>\n",
       "      <th>0</th>\n",
       "      <td>1</td>\n",
       "      <td>2015-07-23 14:28:00</td>\n",
       "    </tr>\n",
       "    <tr>\n",
       "      <th>1</th>\n",
       "      <td>1</td>\n",
       "      <td>2015-07-27 05:43:00</td>\n",
       "    </tr>\n",
       "    <tr>\n",
       "      <th>2</th>\n",
       "      <td>1</td>\n",
       "      <td>2015-07-28 12:57:00</td>\n",
       "    </tr>\n",
       "  </tbody>\n",
       "</table>\n",
       "</div>"
      ],
      "text/plain": [
       "   0                    1\n",
       "0  1  2015-07-23 14:28:00\n",
       "1  1  2015-07-27 05:43:00\n",
       "2  1  2015-07-28 12:57:00"
      ]
     },
     "execution_count": 4,
     "metadata": {},
     "output_type": "execute_result"
    }
   ],
   "source": [
    "n = 1_000_000\n",
    "fp = 's3://3di-data-mdb/raw/20200630_UserLoginsForNeedham.csv'\n",
    "aws.s3read_csv(fp, nrows=3, header=None)"
   ]
  },
  {
   "cell_type": "code",
   "execution_count": 5,
   "id": "average-depression",
   "metadata": {},
   "outputs": [
    {
     "name": "stdout",
     "output_type": "stream",
     "text": [
      "CPU times: user 1.09 s, sys: 493 ms, total: 1.58 s\n",
      "Wall time: 9.27 s\n"
     ]
    }
   ],
   "source": [
    "%%time\n",
    "df = aws.s3read_csv(fp, nrows=n, header=None, parse_dates=[1])"
   ]
  },
  {
   "cell_type": "code",
   "execution_count": 6,
   "id": "alert-queens",
   "metadata": {},
   "outputs": [
    {
     "name": "stdout",
     "output_type": "stream",
     "text": [
      "CPU times: user 1.1 s, sys: 481 ms, total: 1.58 s\n",
      "Wall time: 8.24 s\n"
     ]
    }
   ],
   "source": [
    "%%time\n",
    "df = aws.s3read_csv(fp, nrows=n, header=None, parse_dates=[1], infer_datetime_format=True)"
   ]
  },
  {
   "cell_type": "code",
   "execution_count": 7,
   "id": "involved-sending",
   "metadata": {},
   "outputs": [
    {
     "name": "stdout",
     "output_type": "stream",
     "text": [
      "CPU times: user 1.05 s, sys: 476 ms, total: 1.53 s\n",
      "Wall time: 8.43 s\n"
     ]
    }
   ],
   "source": [
    "%%time\n",
    "def parser(x):\n",
    "    return pd.to_datetime(x, format='%Y-%m-%d')\n",
    "\n",
    "df = aws.s3read_csv(fp, nrows=n, header=None, parse_dates=[1], date_parser=parser)"
   ]
  },
  {
   "cell_type": "code",
   "execution_count": null,
   "id": "de20385c-f5b5-423c-a5ce-1891f2b1b293",
   "metadata": {},
   "outputs": [],
   "source": []
  }
 ],
 "metadata": {
  "kernelspec": {
   "display_name": "tracker",
   "language": "python",
   "name": "tracker"
  },
  "language_info": {
   "codemirror_mode": {
    "name": "ipython",
    "version": 3
   },
   "file_extension": ".py",
   "mimetype": "text/x-python",
   "name": "python",
   "nbconvert_exporter": "python",
   "pygments_lexer": "ipython3",
   "version": "3.7.9"
  }
 },
 "nbformat": 4,
 "nbformat_minor": 5
}
